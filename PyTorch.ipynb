{
 "cells": [
  {
   "cell_type": "markdown",
   "id": "af8d6cd1-864f-4c6d-aeca-7c34437a8c8e",
   "metadata": {},
   "source": [
    "## Pytorch"
   ]
  },
  {
   "cell_type": "markdown",
   "id": "73130d73-dd13-45d7-9e71-77ed9b808bff",
   "metadata": {},
   "source": [
    "##### We built a PyTorch-based regression model to predict sales using a company orders dataset. The project involved data preprocessing, defining a neural network, training it with MSE loss, and evaluating predictions"
   ]
  },
  {
   "cell_type": "code",
   "execution_count": 67,
   "id": "a6f3188d-f36f-46d8-aa2a-ac6a4d061230",
   "metadata": {},
   "outputs": [
    {
     "name": "stdout",
     "output_type": "stream",
     "text": [
      "Requirement already satisfied: torch in /opt/anaconda3/lib/python3.11/site-packages (2.5.1)\n",
      "Requirement already satisfied: filelock in /opt/anaconda3/lib/python3.11/site-packages (from torch) (3.13.1)\n",
      "Requirement already satisfied: typing-extensions>=4.8.0 in /opt/anaconda3/lib/python3.11/site-packages (from torch) (4.12.2)\n",
      "Requirement already satisfied: networkx in /opt/anaconda3/lib/python3.11/site-packages (from torch) (3.1)\n",
      "Requirement already satisfied: jinja2 in /opt/anaconda3/lib/python3.11/site-packages (from torch) (3.1.3)\n",
      "Requirement already satisfied: fsspec in /opt/anaconda3/lib/python3.11/site-packages (from torch) (2023.10.0)\n",
      "Requirement already satisfied: sympy==1.13.1 in /opt/anaconda3/lib/python3.11/site-packages (from torch) (1.13.1)\n",
      "Requirement already satisfied: mpmath<1.4,>=1.1.0 in /opt/anaconda3/lib/python3.11/site-packages (from sympy==1.13.1->torch) (1.3.0)\n",
      "Requirement already satisfied: MarkupSafe>=2.0 in /opt/anaconda3/lib/python3.11/site-packages (from jinja2->torch) (2.1.3)\n"
     ]
    }
   ],
   "source": [
    "!pip install torch"
   ]
  },
  {
   "cell_type": "markdown",
   "id": "bd8b95ac-23ac-4c65-ae7f-ca46bcd98020",
   "metadata": {},
   "source": [
    "#### Import the libraries"
   ]
  },
  {
   "cell_type": "code",
   "execution_count": 83,
   "id": "1182116c-c068-4e71-b2d7-703d1b9d0ccf",
   "metadata": {},
   "outputs": [],
   "source": [
    "import pandas as pd\n",
    "import numpy as np\n",
    "from sklearn.model_selection import train_test_split\n",
    "from sklearn.preprocessing import StandardScaler\n",
    "import torch"
   ]
  },
  {
   "cell_type": "markdown",
   "id": "42c2df44-2523-42b8-947d-0bdd2b8d2468",
   "metadata": {},
   "source": [
    "#### Load the Dataset"
   ]
  },
  {
   "cell_type": "code",
   "execution_count": 84,
   "id": "9b461b55-06bf-4af6-93f7-81fb239628b0",
   "metadata": {},
   "outputs": [],
   "source": [
    "df = pd.read_csv('/Users/hpourmand/Desktop/Retail/Superstore Sales Dataset.csv')"
   ]
  },
  {
   "cell_type": "markdown",
   "id": "df7250e6-0355-480f-8ed7-fd66324b2612",
   "metadata": {},
   "source": [
    "### Data Preproccesing"
   ]
  },
  {
   "cell_type": "markdown",
   "id": "b6c47547-a2c5-4c0d-83e2-85c58b1d69e2",
   "metadata": {},
   "source": [
    "#### Handle Missing Values"
   ]
  },
  {
   "cell_type": "code",
   "execution_count": 85,
   "id": "93338d70-2423-49d1-b7e8-cf05aa7a4428",
   "metadata": {},
   "outputs": [],
   "source": [
    "df['Postal Code'] = df['Postal Code'].fillna('Unknown')"
   ]
  },
  {
   "cell_type": "markdown",
   "id": "02d30af6-f494-4e2a-b03a-549c7cbaa83f",
   "metadata": {},
   "source": [
    "#### Convert date columns to numerical values"
   ]
  },
  {
   "cell_type": "code",
   "execution_count": 86,
   "id": "35af5d17-b0b1-4ad4-a1df-59a514b30c66",
   "metadata": {},
   "outputs": [],
   "source": [
    "df['Order Date'] = pd.to_datetime(df['Order Date'], dayfirst = True)\n",
    "df['Ship Date'] = pd.to_datetime(df['Ship Date'], dayfirst = True)\n",
    "df['Order Date'] = (df['Order Date'] - df['Order Date'].min()).dt.days\n",
    "df['Ship Date'] = (df['Ship Date'] - df['Ship Date'].min()).dt.days"
   ]
  },
  {
   "cell_type": "markdown",
   "id": "031f5e3e-990c-4d3d-8aa0-aa134dfd35ca",
   "metadata": {},
   "source": [
    "#### Encode categorical variables"
   ]
  },
  {
   "cell_type": "code",
   "execution_count": 87,
   "id": "1f312faf-7768-49a0-842f-4e3181eb4eb0",
   "metadata": {},
   "outputs": [],
   "source": [
    "df = pd.get_dummies(df, drop_first=True)"
   ]
  },
  {
   "cell_type": "markdown",
   "id": "feb8799d-a9f1-4100-8b17-68677080ec04",
   "metadata": {},
   "source": [
    "#### Features & Target"
   ]
  },
  {
   "cell_type": "code",
   "execution_count": 88,
   "id": "4e03d809-ebf3-4f6f-adb3-096a9d17607f",
   "metadata": {},
   "outputs": [],
   "source": [
    "X = df.drop(columns=['Sales'])\n",
    "y = df['Sales']"
   ]
  },
  {
   "cell_type": "markdown",
   "id": "3c7078a1-be48-4743-ac0b-525d09a0cf08",
   "metadata": {},
   "source": [
    "#### Normalize numerical features"
   ]
  },
  {
   "cell_type": "code",
   "execution_count": 89,
   "id": "1affbe9d-cc9f-4778-8c5e-36affa5907ae",
   "metadata": {},
   "outputs": [],
   "source": [
    "scaler = StandardScaler()\n",
    "X_scaled = scaler.fit_transform(X)"
   ]
  },
  {
   "cell_type": "markdown",
   "id": "252e7077-cadd-4284-b2b2-022878ee7a07",
   "metadata": {},
   "source": [
    "#### Split data into training and test sets"
   ]
  },
  {
   "cell_type": "code",
   "execution_count": 90,
   "id": "4a9ea900-303e-4a96-aa06-6fdc733a71dc",
   "metadata": {},
   "outputs": [],
   "source": [
    "X_train, X_test, y_train, y_test = train_test_split(X_scaled, y, test_size=0.2, random_state=42)"
   ]
  },
  {
   "cell_type": "markdown",
   "id": "d1c69a87-a103-4e4a-8930-482c546bcdc6",
   "metadata": {},
   "source": [
    "#### Convert to PyTorch tensors"
   ]
  },
  {
   "cell_type": "code",
   "execution_count": 91,
   "id": "e8cfa7c7-4069-4b35-ba3a-9cd25a399a0f",
   "metadata": {},
   "outputs": [],
   "source": [
    "X_train_tensor = torch.tensor(X_train, dtype=torch.float32)\n",
    "X_test_tensor = torch.tensor(X_test, dtype=torch.float32)\n",
    "y_train_tensor = torch.tensor(y_train.values, dtype=torch.float32).view(-1, 1)\n",
    "y_test_tensor = torch.tensor(y_test.values, dtype=torch.float32).view(-1, 1)"
   ]
  },
  {
   "cell_type": "markdown",
   "id": "5e90a9cd-3f9d-4537-8a71-ff52dd624f42",
   "metadata": {},
   "source": [
    "### Neural Network Model"
   ]
  },
  {
   "cell_type": "code",
   "execution_count": 92,
   "id": "08d1c04b-e1fd-4e1e-8286-79a8c6c55849",
   "metadata": {},
   "outputs": [],
   "source": [
    "class SalesPredictionModel(nn.Module):\n",
    "    def __init__(self, input_dim):\n",
    "        super(SalesPredictionModel, self).__init__()\n",
    "        self.layer1 = nn.Linear(input_dim, 64)\n",
    "        self.layer2 = nn.Linear(64, 32)\n",
    "        self.output_layer = nn.Linear(32, 1)\n",
    "\n",
    "    def forward(self, x):\n",
    "        x = torch.relu(self.layer1(x))\n",
    "        x = torch.relu(self.layer2(x))\n",
    "        x = self.output_layer(x)\n",
    "        return x\n",
    "\n",
    "# Initialize the model\n",
    "input_dim = X_train.shape[1]\n",
    "model = SalesPredictionModel(input_dim)"
   ]
  },
  {
   "cell_type": "markdown",
   "id": "e068a9ac-f69e-4b71-8ed9-fab96b0ea223",
   "metadata": {},
   "source": [
    "### Set Up the Loss Function and Optimizer"
   ]
  },
  {
   "cell_type": "code",
   "execution_count": 93,
   "id": "07f658e0-04ae-48d0-bf64-3063d5089381",
   "metadata": {},
   "outputs": [],
   "source": [
    "# Mean Squared Error Loss for regression\n",
    "criterion = nn.MSELoss()\n",
    "\n",
    "# Adam optimizer\n",
    "optimizer = optim.Adam(model.parameters(), lr=0.001)"
   ]
  },
  {
   "cell_type": "markdown",
   "id": "0b5c3de3-d64e-43ac-9d96-6bac399c8b9f",
   "metadata": {},
   "source": [
    "### Train the Model"
   ]
  },
  {
   "cell_type": "code",
   "execution_count": 94,
   "id": "8608b56a-d6eb-4c35-84a9-cbfd415612d7",
   "metadata": {},
   "outputs": [
    {
     "name": "stdout",
     "output_type": "stream",
     "text": [
      "Epoch [10/100], Loss: 370975.2500\n",
      "Epoch [20/100], Loss: 368208.0000\n",
      "Epoch [30/100], Loss: 362333.5000\n",
      "Epoch [40/100], Loss: 351472.2500\n",
      "Epoch [50/100], Loss: 333757.9688\n",
      "Epoch [60/100], Loss: 308032.0312\n",
      "Epoch [70/100], Loss: 275252.6250\n",
      "Epoch [80/100], Loss: 239666.6719\n",
      "Epoch [90/100], Loss: 207636.3594\n",
      "Epoch [100/100], Loss: 183137.3906\n"
     ]
    }
   ],
   "source": [
    "# Number of epochs\n",
    "epochs = 100\n",
    "\n",
    "# Training loop\n",
    "for epoch in range(epochs):\n",
    "    model.train()\n",
    "    \n",
    "    # Forward pass\n",
    "    outputs = model(X_train_tensor)\n",
    "    loss = criterion(outputs, y_train_tensor)\n",
    "    \n",
    "    # Backward pass and optimization\n",
    "    optimizer.zero_grad()\n",
    "    loss.backward()\n",
    "    optimizer.step()\n",
    "    \n",
    "    if (epoch + 1) % 10 == 0:\n",
    "        print(f'Epoch [{epoch+1}/{epochs}], Loss: {loss.item():.4f}')"
   ]
  },
  {
   "cell_type": "markdown",
   "id": "16cb8dde-4406-4ee5-b5cb-d16182db45b8",
   "metadata": {},
   "source": [
    "### Evaluate the Model"
   ]
  },
  {
   "cell_type": "code",
   "execution_count": 95,
   "id": "9feaa21f-18d4-447d-b638-ed3f138be2da",
   "metadata": {},
   "outputs": [
    {
     "name": "stdout",
     "output_type": "stream",
     "text": [
      "Test Loss: 634563.0000\n",
      "Mean Squared Error: 634563.0000\n"
     ]
    }
   ],
   "source": [
    "# Evaluate on test set\n",
    "model.eval()\n",
    "with torch.no_grad():\n",
    "    y_pred = model(X_test_tensor)\n",
    "    test_loss = criterion(y_pred, y_test_tensor)\n",
    "    print(f'Test Loss: {test_loss.item():.4f}')\n",
    "    \n",
    "    # Calculate Mean Squared Error on test data\n",
    "    mse = mean_squared_error(y_test_tensor.numpy(), y_pred.numpy())\n",
    "    print(f'Mean Squared Error: {mse:.4f}')"
   ]
  },
  {
   "cell_type": "markdown",
   "id": "e3b5f3f2-ec32-4a7b-a903-a6c3796e967f",
   "metadata": {},
   "source": [
    "### Make Predictions"
   ]
  },
  {
   "cell_type": "code",
   "execution_count": 97,
   "id": "983a8a34-dd21-42d6-b41f-cabf78298ae1",
   "metadata": {},
   "outputs": [
    {
     "name": "stdout",
     "output_type": "stream",
     "text": [
      "Predictions: tensor([[  0.9406],\n",
      "        [ 32.7971],\n",
      "        [181.9749],\n",
      "        [  0.7834],\n",
      "        [ 72.6814],\n",
      "        [ 33.0613],\n",
      "        [262.6530],\n",
      "        [  0.6578],\n",
      "        [266.3345],\n",
      "        [ 10.6596]])\n"
     ]
    }
   ],
   "source": [
    "# Make predictions on new data or test data\n",
    "model.eval()\n",
    "with torch.no_grad():\n",
    "    y_new_pred = model(X_test_tensor)\n",
    "    print(f'Predictions: {y_new_pred[:10]}')  "
   ]
  }
 ],
 "metadata": {
  "kernelspec": {
   "display_name": "Python 3 (ipykernel)",
   "language": "python",
   "name": "python3"
  },
  "language_info": {
   "codemirror_mode": {
    "name": "ipython",
    "version": 3
   },
   "file_extension": ".py",
   "mimetype": "text/x-python",
   "name": "python",
   "nbconvert_exporter": "python",
   "pygments_lexer": "ipython3",
   "version": "3.11.7"
  }
 },
 "nbformat": 4,
 "nbformat_minor": 5
}
