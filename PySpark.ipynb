{
 "cells": [
  {
   "cell_type": "markdown",
   "id": "796a47ff-ca59-4a23-9474-310cf7d74348",
   "metadata": {},
   "source": [
    "### PySpark"
   ]
  },
  {
   "cell_type": "markdown",
   "id": "3bd18b1f-236c-411e-8f83-f22ecf1a40ac",
   "metadata": {},
   "source": [
    "#### Load the Libraries"
   ]
  },
  {
   "cell_type": "code",
   "execution_count": 59,
   "id": "5f4b0829-2291-4e0c-8ac0-a110780e25b5",
   "metadata": {},
   "outputs": [],
   "source": [
    "from pyspark.sql import SparkSession\n",
    "from pyspark.sql.types import StringType, IntegerType, FloatType, DateType\n",
    "from pyspark.sql.functions import col, to_date\n",
    "from pyspark.sql.functions import datediff\n",
    "from pyspark.sql.functions import sum\n",
    "from pyspark.sql.functions import year, month\n",
    "from pyspark.sql import functions as F\n",
    "\n",
    "# Initialize Spark session\n",
    "spark = SparkSession.builder.appName(\"Sales Analysis Project\").getOrCreate()"
   ]
  },
  {
   "cell_type": "markdown",
   "id": "87108aa1-91e6-4c38-9ee7-58da644e4db5",
   "metadata": {},
   "source": [
    "#### Load Dataset"
   ]
  },
  {
   "cell_type": "code",
   "execution_count": 60,
   "id": "1b0a01fd-ea22-432a-b575-8435676b01f4",
   "metadata": {},
   "outputs": [
    {
     "name": "stdout",
     "output_type": "stream",
     "text": [
      "root\n",
      " |-- Row ID: integer (nullable = true)\n",
      " |-- Order ID: string (nullable = true)\n",
      " |-- Order Date: string (nullable = true)\n",
      " |-- Ship Date: string (nullable = true)\n",
      " |-- Ship Mode: string (nullable = true)\n",
      " |-- Customer ID: string (nullable = true)\n",
      " |-- Customer Name: string (nullable = true)\n",
      " |-- Segment: string (nullable = true)\n",
      " |-- Country: string (nullable = true)\n",
      " |-- City: string (nullable = true)\n",
      " |-- State: string (nullable = true)\n",
      " |-- Postal Code: integer (nullable = true)\n",
      " |-- Region: string (nullable = true)\n",
      " |-- Product ID: string (nullable = true)\n",
      " |-- Category: string (nullable = true)\n",
      " |-- Sub-Category: string (nullable = true)\n",
      " |-- Product Name: string (nullable = true)\n",
      " |-- Sales: string (nullable = true)\n",
      "\n",
      "+------+--------------+----------+----------+--------------+-----------+---------------+---------+-------------+---------------+----------+-----------+------+---------------+---------------+------------+--------------------+--------+\n",
      "|Row ID|      Order ID|Order Date| Ship Date|     Ship Mode|Customer ID|  Customer Name|  Segment|      Country|           City|     State|Postal Code|Region|     Product ID|       Category|Sub-Category|        Product Name|   Sales|\n",
      "+------+--------------+----------+----------+--------------+-----------+---------------+---------+-------------+---------------+----------+-----------+------+---------------+---------------+------------+--------------------+--------+\n",
      "|     1|CA-2017-152156|08/11/2017|11/11/2017|  Second Class|   CG-12520|    Claire Gute| Consumer|United States|      Henderson|  Kentucky|      42420| South|FUR-BO-10001798|      Furniture|   Bookcases|Bush Somerset Col...|  261.96|\n",
      "|     2|CA-2017-152156|08/11/2017|11/11/2017|  Second Class|   CG-12520|    Claire Gute| Consumer|United States|      Henderson|  Kentucky|      42420| South|FUR-CH-10000454|      Furniture|      Chairs|Hon Deluxe Fabric...|  731.94|\n",
      "|     3|CA-2017-138688|12/06/2017|16/06/2017|  Second Class|   DV-13045|Darrin Van Huff|Corporate|United States|    Los Angeles|California|      90036|  West|OFF-LA-10000240|Office Supplies|      Labels|Self-Adhesive Add...|   14.62|\n",
      "|     4|US-2016-108966|11/10/2016|18/10/2016|Standard Class|   SO-20335| Sean O'Donnell| Consumer|United States|Fort Lauderdale|   Florida|      33311| South|FUR-TA-10000577|      Furniture|      Tables|Bretford CR4500 S...|957.5775|\n",
      "|     5|US-2016-108966|11/10/2016|18/10/2016|Standard Class|   SO-20335| Sean O'Donnell| Consumer|United States|Fort Lauderdale|   Florida|      33311| South|OFF-ST-10000760|Office Supplies|     Storage|Eldon Fold 'N Rol...|  22.368|\n",
      "+------+--------------+----------+----------+--------------+-----------+---------------+---------+-------------+---------------+----------+-----------+------+---------------+---------------+------------+--------------------+--------+\n",
      "only showing top 5 rows\n",
      "\n"
     ]
    }
   ],
   "source": [
    "df = spark.read.csv(\"/Users/hpourmand/Desktop/Retail/Superstore Sales Dataset.csv\", header=True, inferSchema=True)\n",
    "\n",
    "df.printSchema()\n",
    "df.show(5)"
   ]
  },
  {
   "cell_type": "markdown",
   "id": "24bcf74a-1116-4c6d-ab54-b5369355c907",
   "metadata": {},
   "source": [
    "#### Handling missing values"
   ]
  },
  {
   "cell_type": "code",
   "execution_count": 62,
   "id": "ac2d694c-881c-4d38-8062-e3f247db5981",
   "metadata": {},
   "outputs": [
    {
     "name": "stdout",
     "output_type": "stream",
     "text": [
      "++\n",
      "||\n",
      "++\n",
      "||\n",
      "||\n",
      "||\n",
      "||\n",
      "||\n",
      "||\n",
      "||\n",
      "||\n",
      "||\n",
      "||\n",
      "||\n",
      "||\n",
      "||\n",
      "||\n",
      "||\n",
      "||\n",
      "||\n",
      "||\n",
      "||\n",
      "||\n",
      "++\n",
      "only showing top 20 rows\n",
      "\n"
     ]
    }
   ],
   "source": [
    "# Fill the missing values\n",
    "df = df.na.fill({\"Postal Code\": \"00000\"})\n",
    "\n",
    "# Check the columns\n",
    "null_columns = [col for col in df.columns if df.filter(F.col(col).isNull()).count() > 0]\n",
    "\n",
    "df.select(null_columns).show()"
   ]
  },
  {
   "cell_type": "markdown",
   "id": "dbb1181a-451b-49e1-b55e-330bada1ac2c",
   "metadata": {},
   "source": [
    "#### Adjust the relevant columns to the appropriate data types"
   ]
  },
  {
   "cell_type": "code",
   "execution_count": 63,
   "id": "e16fb5e0-584a-4a97-ba7b-70a50fa90b07",
   "metadata": {},
   "outputs": [
    {
     "name": "stdout",
     "output_type": "stream",
     "text": [
      "root\n",
      " |-- Row ID: integer (nullable = true)\n",
      " |-- Order ID: string (nullable = true)\n",
      " |-- Order Date: date (nullable = true)\n",
      " |-- Ship Date: date (nullable = true)\n",
      " |-- Ship Mode: string (nullable = true)\n",
      " |-- Customer ID: string (nullable = true)\n",
      " |-- Customer Name: string (nullable = true)\n",
      " |-- Segment: string (nullable = true)\n",
      " |-- Country: string (nullable = true)\n",
      " |-- City: string (nullable = true)\n",
      " |-- State: string (nullable = true)\n",
      " |-- Postal Code: string (nullable = true)\n",
      " |-- Region: string (nullable = true)\n",
      " |-- Product ID: string (nullable = true)\n",
      " |-- Category: string (nullable = true)\n",
      " |-- Sub-Category: string (nullable = true)\n",
      " |-- Product Name: string (nullable = true)\n",
      " |-- Sales: string (nullable = true)\n",
      "\n"
     ]
    }
   ],
   "source": [
    "df = df.withColumn(\"Order Date\", to_date(col(\"Order Date\"), \"yyyy-MM-dd\")) \\\n",
    "       .withColumn(\"Ship Date\", to_date(col(\"Ship Date\"), \"yyyy-MM-dd\"))\n",
    "\n",
    "df = df.withColumn(\"Postal Code\", col(\"Postal Code\").cast(StringType()))\n",
    "\n",
    "df.printSchema()"
   ]
  },
  {
   "cell_type": "markdown",
   "id": "1e304104-4b79-4d69-8afb-a87ccfe36958",
   "metadata": {},
   "source": [
    "#### Ensure uniqueness of \"Row ID\" and \"Order ID\""
   ]
  },
  {
   "cell_type": "code",
   "execution_count": 64,
   "id": "d795ed1f-4c2b-4131-a70e-3cad2eeafec5",
   "metadata": {},
   "outputs": [
    {
     "name": "stdout",
     "output_type": "stream",
     "text": [
      "Total rows: 9800\n",
      "Unique Row IDs: 9800\n",
      "Unique Order IDs: 4922\n"
     ]
    }
   ],
   "source": [
    "row_id_count = df.select(\"Row ID\").distinct().count()\n",
    "order_id_count = df.select(\"Order ID\").distinct().count()\n",
    "\n",
    "# Total rows\n",
    "total_rows = df.count()\n",
    "\n",
    "print(f\"Total rows: {total_rows}\")\n",
    "print(f\"Unique Row IDs: {row_id_count}\")\n",
    "print(f\"Unique Order IDs: {order_id_count}\")"
   ]
  },
  {
   "cell_type": "markdown",
   "id": "946df40a-1f25-45f8-9dbc-2802b3d3c29d",
   "metadata": {},
   "source": [
    "#### The distribution of shipping durations"
   ]
  },
  {
   "cell_type": "code",
   "execution_count": 65,
   "id": "19c3248c-3da8-4335-b0ba-f878e1aa5d26",
   "metadata": {},
   "outputs": [
    {
     "name": "stdout",
     "output_type": "stream",
     "text": [
      "+-------+-----------------+\n",
      "|summary|            Sales|\n",
      "+-------+-----------------+\n",
      "|  count|             9800|\n",
      "|   mean|235.2895627576727|\n",
      "| stddev| 635.178384045279|\n",
      "|    min|         10/Pack\"|\n",
      "|    max|           999.98|\n",
      "+-------+-----------------+\n",
      "\n",
      "+-------+-----------------+\n",
      "|summary|Shipping Duration|\n",
      "+-------+-----------------+\n",
      "|  count|                0|\n",
      "|   mean|             NULL|\n",
      "| stddev|             NULL|\n",
      "|    min|             NULL|\n",
      "|    max|             NULL|\n",
      "+-------+-----------------+\n",
      "\n",
      "+--------------+-----+\n",
      "|     Ship Mode|count|\n",
      "+--------------+-----+\n",
      "|Standard Class| 5859|\n",
      "|  Second Class| 1902|\n",
      "|   First Class| 1501|\n",
      "|      Same Day|  538|\n",
      "+--------------+-----+\n",
      "\n"
     ]
    }
   ],
   "source": [
    "#Summary Statistics\n",
    "df.describe([\"Sales\"]).show()\n",
    "\n",
    "# Shipping duration\n",
    "df = df.withColumn(\"Shipping Duration\", datediff(col(\"Ship Date\"), col(\"Order Date\")))\n",
    "\n",
    "# Show basic statistics for Shipping Duration\n",
    "df.select(\"Shipping Duration\").describe().show()\n",
    "\n",
    "# Analyze shipping mode usage\n",
    "ship_mode_count = df.groupBy(\"Ship Mode\").count().orderBy(\"count\", ascending=False)\n",
    "ship_mode_count.show()"
   ]
  },
  {
   "cell_type": "markdown",
   "id": "f43a811b-120e-411f-bd6a-e91304894305",
   "metadata": {},
   "source": [
    "#### Customer Segmentation Analysis"
   ]
  },
  {
   "cell_type": "code",
   "execution_count": 66,
   "id": "95a5e05a-e864-4aeb-8ef2-62aa05f714e1",
   "metadata": {},
   "outputs": [
    {
     "name": "stdout",
     "output_type": "stream",
     "text": [
      "+-----------+------------------+\n",
      "|    Segment|       Total Sales|\n",
      "+-----------+------------------+\n",
      "|   Consumer|1137126.4019999914|\n",
      "|  Corporate| 678952.2218000003|\n",
      "|Home Office| 421054.5389000004|\n",
      "+-----------+------------------+\n",
      "\n"
     ]
    }
   ],
   "source": [
    "segment_sales = df.groupBy(\"Segment\").agg(\n",
    "    sum(\"Sales\").alias(\"Total Sales\")\n",
    ").orderBy(\"Total Sales\", ascending=False)\n",
    "\n",
    "segment_sales.show()"
   ]
  },
  {
   "cell_type": "markdown",
   "id": "f6faa386-6f42-4ba5-aae6-ce193048f18b",
   "metadata": {},
   "source": [
    "#### Understand the distribution of orders and sales by location"
   ]
  },
  {
   "cell_type": "code",
   "execution_count": 23,
   "id": "bbe87aa9-ab72-405b-8b81-257b9503991e",
   "metadata": {},
   "outputs": [
    {
     "name": "stdout",
     "output_type": "stream",
     "text": [
      "+-------+------------------+\n",
      "| Region|       Total Sales|\n",
      "+-------+------------------+\n",
      "|   West| 698354.7745000002|\n",
      "|   East| 663043.8579999986|\n",
      "|Central|489321.39120000065|\n",
      "|  South|386413.13900000043|\n",
      "+-------+------------------+\n",
      "\n",
      "+-------------+-----+\n",
      "|      Country|count|\n",
      "+-------------+-----+\n",
      "|United States| 9800|\n",
      "+-------------+-----+\n",
      "\n"
     ]
    }
   ],
   "source": [
    "# Group by Region and calculate total and average sales\n",
    "region_sales = df.groupBy(\"Region\").agg(\n",
    "    sum(\"Sales\").alias(\"Total Sales\")\n",
    ").orderBy(\"Total Sales\", ascending=False)\n",
    "\n",
    "region_sales.show()\n",
    "\n",
    "# Group by Country and count order\n",
    "country_orders = df.groupBy(\"Country\").count().orderBy(\"count\", ascending=False)\n",
    "country_orders.show()"
   ]
  },
  {
   "cell_type": "markdown",
   "id": "d64de2e7-bb12-4a6c-ae48-a44fb3955a10",
   "metadata": {},
   "source": [
    "#### Analyze sales over time"
   ]
  },
  {
   "cell_type": "code",
   "execution_count": 24,
   "id": "10ee0b66-fa48-4f60-8d1a-66c4615ab515",
   "metadata": {},
   "outputs": [
    {
     "name": "stdout",
     "output_type": "stream",
     "text": [
      "+----------+------------------+\n",
      "|Order Year|       Total Sales|\n",
      "+----------+------------------+\n",
      "|      NULL|2237133.1626999523|\n",
      "+----------+------------------+\n",
      "\n",
      "+-----------+------------------+\n",
      "|Order Month|       Total Sales|\n",
      "+-----------+------------------+\n",
      "|       NULL|2237133.1626999523|\n",
      "+-----------+------------------+\n",
      "\n"
     ]
    }
   ],
   "source": [
    "# Extract year and month from Order Date\n",
    "df = df.withColumn(\"Order Year\", year(col(\"Order Date\"))) \\\n",
    "       .withColumn(\"Order Month\", month(col(\"Order Date\")))\n",
    "\n",
    "# Total sales per year\n",
    "sales_by_year = df.groupBy(\"Order Year\").agg(sum(\"Sales\").alias(\"Total Sales\")).orderBy(\"Order Year\")\n",
    "sales_by_year.show()\n",
    "\n",
    "# Total sales per month\n",
    "sales_by_month = df.groupBy(\"Order Month\").agg(sum(\"Sales\").alias(\"Total Sales\")).orderBy(\"Order Month\")\n",
    "sales_by_month.show()"
   ]
  },
  {
   "cell_type": "markdown",
   "id": "b2cf77a4-5b09-4111-8a6b-5b01caca780b",
   "metadata": {},
   "source": [
    "### Vizualization"
   ]
  },
  {
   "cell_type": "code",
   "execution_count": 27,
   "id": "e9b5e9bc-4fbb-4ab8-8a40-50e0185cf83d",
   "metadata": {},
   "outputs": [],
   "source": [
    "import pandas as pd\n",
    "import seaborn as sns\n",
    "import matplotlib.pyplot as plt"
   ]
  },
  {
   "cell_type": "markdown",
   "id": "12cbe4b0-9606-417d-bc9f-40e878dbc423",
   "metadata": {},
   "source": [
    "#### Convert to Pandas dataframe"
   ]
  },
  {
   "cell_type": "code",
   "execution_count": 26,
   "id": "f8202b40-6e35-4c3d-8162-5acbca4da59c",
   "metadata": {},
   "outputs": [],
   "source": [
    "segment_sales_pd = segment_sales.toPandas()\n",
    "ship_mode_count_pd = ship_mode_count.toPandas()\n",
    "sales_by_year_pd = sales_by_year.toPandas()"
   ]
  },
  {
   "cell_type": "markdown",
   "id": "65625924-9b75-4d42-90d7-5115b96f40fa",
   "metadata": {},
   "source": [
    "#### Sales by Customer Segment"
   ]
  },
  {
   "cell_type": "code",
   "execution_count": 48,
   "id": "a811c623-7b66-4a3b-af0a-e604847c0d31",
   "metadata": {},
   "outputs": [
    {
     "data": {
      "image/png": "[encoded data removed]",
      "text/plain": [
       "<Figure size 1000x600 with 1 Axes>"
      ]
     },
     "metadata": {},
     "output_type": "display_data"
    }
   ],
   "source": [
    "# Set color palette\n",
    "color_palette = sns.color_palette('Set1')\n",
    "\n",
    "# Sales by customer segment\n",
    "plt.figure(figsize=(10, 6))\n",
    "sns.barplot(data=segment_sales_pd, x=\"Segment\", y=\"Total Sales\", palette=color_palette)\n",
    "\n",
    "# Adding annotations\n",
    "for i, p in enumerate(plt.gca().patches):  \n",
    "    height = p.get_height()  \n",
    "    plt.text(p.get_x() + p.get_width() / 2, height + 1000, \n",
    "             f\"{height:.0f}\", \n",
    "             horizontalalignment='center', \n",
    "             verticalalignment='bottom', \n",
    "             fontsize=9, color='black')\n",
    "\n",
    "plt.title(\"Total Sales by Customer Segment\")\n",
    "plt.xlabel(\"Customer Segment\")\n",
    "plt.ylabel(\"Total Sales\")\n",
    "plt.grid(False)\n",
    "plt.show()"
   ]
  },
  {
   "cell_type": "markdown",
   "id": "42b899ec-0c46-48de-8cc1-39f4a15ad22b",
   "metadata": {},
   "source": [
    "#### Shipping Mode Usage"
   ]
  },
  {
   "cell_type": "code",
   "execution_count": 49,
   "id": "b2c49256-8457-44cc-a82e-6a7550e7c5b7",
   "metadata": {},
   "outputs": [
    {
     "data": {
      "image/png": "[encoded data removed]",
      "text/plain": [
       "<Figure size 1000x600 with 1 Axes>"
      ]
     },
     "metadata": {},
     "output_type": "display_data"
    }
   ],
   "source": [
    "# Plot shipping mode count\n",
    "plt.figure(figsize=(10, 6))\n",
    "sns.barplot(data=ship_mode_count_pd, x=\"Ship Mode\", y=\"count\", palette=color_palette)\n",
    "\n",
    "# Adding annotations\n",
    "for i, p in enumerate(plt.gca().patches):  \n",
    "    height = p.get_height()  \n",
    "    plt.text(p.get_x() + p.get_width() / 2, height + 10,  \n",
    "             f\"{height:.0f}\",  \n",
    "             horizontalalignment='center', \n",
    "             verticalalignment='bottom', \n",
    "             fontsize=9, color='black')\n",
    "\n",
    "plt.title(\"Shipping Mode Usage\")\n",
    "plt.xlabel(\"Shipping Mode\")\n",
    "plt.ylabel(\"Count of Orders\")\n",
    "plt.grid(False)\n",
    "plt.show()\n"
   ]
  },
  {
   "cell_type": "markdown",
   "id": "9f5d278e-eae7-4b36-933b-22fa4e80c54a",
   "metadata": {},
   "source": [
    "#### Region-Based Sales Distribution"
   ]
  },
  {
   "cell_type": "code",
   "execution_count": 56,
   "id": "7c5c338f-e5b7-4f34-98ef-82aa0b3baef5",
   "metadata": {},
   "outputs": [
    {
     "data": {
      "image/png": "[encoded data removed]",
      "text/plain": [
       "<Figure size 1000x600 with 1 Axes>"
      ]
     },
     "metadata": {},
     "output_type": "display_data"
    }
   ],
   "source": [
    "# Sales by region\n",
    "plt.figure(figsize=(10, 6))\n",
    "sns.barplot(data=region_sales_pd, x=\"Region\", y=\"Total Sales\", palette=color_palette)\n",
    "\n",
    "# Adding annotations \n",
    "for i, p in enumerate(plt.gca().patches):  \n",
    "    height = p.get_height() \n",
    "    plt.text(p.get_x() + p.get_width() / 2, height + 1000, \n",
    "             f\"{height:.0f}\",  \n",
    "             horizontalalignment='center', \n",
    "             verticalalignment='bottom', \n",
    "             fontsize=9, color='black')\n",
    "\n",
    "plt.title(\"Total Sales by Region\")\n",
    "plt.xlabel(\"Region\")\n",
    "plt.ylabel(\"Total Sales\")\n",
    "plt.grid(False)\n",
    "plt.show()\n"
   ]
  },
  {
   "cell_type": "code",
   "execution_count": null,
   "id": "2c446b82-77b8-477e-8a94-30c907bfde8e",
   "metadata": {},
   "outputs": [],
   "source": []
  }
 ],
 "metadata": {
  "kernelspec": {
   "display_name": "Python 3 (ipykernel)",
   "language": "python",
   "name": "python3"
  },
  "language_info": {
   "codemirror_mode": {
    "name": "ipython",
    "version": 3
   },
   "file_extension": ".py",
   "mimetype": "text/x-python",
   "name": "python",
   "nbconvert_exporter": "python",
   "pygments_lexer": "ipython3",
   "version": "3.11.7"
  }
 },
 "nbformat": 4,
 "nbformat_minor": 5
}
